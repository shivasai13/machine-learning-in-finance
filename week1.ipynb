{
 "cells": [
  {
   "cell_type": "code",
   "execution_count": 1,
   "id": "af451f2f-2643-46e9-9888-257399ebe6db",
   "metadata": {},
   "outputs": [],
   "source": [
    "import numpy as np"
   ]
  },
  {
   "cell_type": "code",
   "execution_count": 2,
   "id": "77b41b1f-4297-4d73-a848-49799ee077e7",
   "metadata": {},
   "outputs": [
    {
     "name": "stdout",
     "output_type": "stream",
     "text": [
      "Vector: [ 0  1  2  3  4  5  6  7  8  9 10 11]\n"
     ]
    }
   ],
   "source": [
    "num_elements = 12  \n",
    "vector = np.arange(num_elements)\n",
    "print(\"Vector:\", vector)"
   ]
  },
  {
   "cell_type": "code",
   "execution_count": 3,
   "id": "56992d11-d52c-4f56-8ae1-ba6a35603660",
   "metadata": {},
   "outputs": [
    {
     "name": "stdout",
     "output_type": "stream",
     "text": [
      "2D Array with 1 row: [[ 0  1  2  3  4  5  6  7  8  9 10 11]]\n"
     ]
    }
   ],
   "source": [
    "array_2d = vector[np.newaxis, :]\n",
    "print(\"2D Array with 1 row:\", array_2d)"
   ]
  },
  {
   "cell_type": "code",
   "execution_count": 5,
   "id": "a766d86a-e08b-4ccd-9c1d-dfad4c339d68",
   "metadata": {},
   "outputs": [
    {
     "name": "stdout",
     "output_type": "stream",
     "text": [
      "Saved Array: [[ 0  1  2  3  4  5  6  7  8  9 10 11]]\n"
     ]
    }
   ],
   "source": [
    "saved_array = array_2d.copy() \n",
    "print(\"Saved Array:\", saved_array)"
   ]
  },
  {
   "cell_type": "code",
   "execution_count": 6,
   "id": "e595fd79-f48b-43c4-94e0-90109933a9e5",
   "metadata": {},
   "outputs": [
    {
     "name": "stdout",
     "output_type": "stream",
     "text": [
      "Shape of the array: (1, 12)\n"
     ]
    }
   ],
   "source": [
    "print(\"Shape of the array:\", saved_array.shape)\n"
   ]
  },
  {
   "cell_type": "code",
   "execution_count": null,
   "id": "29d57092-4a19-4aff-834f-bc2ac0199965",
   "metadata": {},
   "outputs": [],
   "source": []
  }
 ],
 "metadata": {
  "kernelspec": {
   "display_name": "Python 3 (ipykernel)",
   "language": "python",
   "name": "python3"
  },
  "language_info": {
   "codemirror_mode": {
    "name": "ipython",
    "version": 3
   },
   "file_extension": ".py",
   "mimetype": "text/x-python",
   "name": "python",
   "nbconvert_exporter": "python",
   "pygments_lexer": "ipython3",
   "version": "3.11.7"
  }
 },
 "nbformat": 4,
 "nbformat_minor": 5
}
