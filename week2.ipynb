{
 "cells": [
  {
   "cell_type": "code",
   "execution_count": 2,
   "id": "e1120f34-f199-4efd-8db2-90ca75e4d117",
   "metadata": {},
   "outputs": [],
   "source": [
    "import pandas as pd"
   ]
  },
  {
   "cell_type": "code",
   "execution_count": 4,
   "id": "f88fa2b9-5f78-437c-baee-dcd8543a7484",
   "metadata": {},
   "outputs": [],
   "source": [
    "data = {\n",
    "    'relationship': ['Married', 'Single', 'Married', 'Single', 'Divorced'],\n",
    "    'hours-per-week': [40, 30, 35, 50, 45]\n",
    "}"
   ]
  },
  {
   "cell_type": "code",
   "execution_count": 12,
   "id": "7129f446-237d-499f-8373-4b18fc561870",
   "metadata": {},
   "outputs": [],
   "source": [
    "df = pd.DataFrame(data)"
   ]
  },
  {
   "cell_type": "code",
   "execution_count": 14,
   "id": "0ff6d085-25b3-402a-8890-1dbfcfa6a72e",
   "metadata": {},
   "outputs": [],
   "source": [
    "#student id is 2338212\n",
    "n= 2"
   ]
  },
  {
   "cell_type": "code",
   "execution_count": 16,
   "id": "4a623d80-8cbc-4909-9dea-d2d1db5bed53",
   "metadata": {},
   "outputs": [],
   "source": [
    "def reduce_hours(row):\n",
    "    row['hours-per-week'] = row['hours-per-week'] - n\n",
    "    return row"
   ]
  },
  {
   "cell_type": "code",
   "execution_count": 18,
   "id": "94500d82-d61a-4b2c-b63a-0fb1bc6f0f31",
   "metadata": {},
   "outputs": [],
   "source": [
    "df = df.apply(reduce_hours, axis=1)"
   ]
  },
  {
   "cell_type": "code",
   "execution_count": 20,
   "id": "9ed4ec15-c8ba-4627-aeb8-980374773831",
   "metadata": {},
   "outputs": [],
   "source": [
    "grouped_df = df.groupby(['relationship', 'hours-per-week']).size().reset_index(name='count')"
   ]
  },
  {
   "cell_type": "code",
   "execution_count": 22,
   "id": "23020ab1-3ba3-498b-aa3f-833ed7d3c0da",
   "metadata": {},
   "outputs": [
    {
     "name": "stdout",
     "output_type": "stream",
     "text": [
      "  relationship  hours-per-week  count\n",
      "0     Divorced              43      1\n",
      "1      Married              33      1\n",
      "2      Married              38      1\n",
      "3       Single              28      1\n",
      "4       Single              48      1\n"
     ]
    }
   ],
   "source": [
    "print(grouped_df)"
   ]
  },
  {
   "cell_type": "code",
   "execution_count": null,
   "id": "ac9a20d2-4785-416b-a0bc-9a9d021233d5",
   "metadata": {},
   "outputs": [],
   "source": []
  }
 ],
 "metadata": {
  "kernelspec": {
   "display_name": "Python 3 (ipykernel)",
   "language": "python",
   "name": "python3"
  },
  "language_info": {
   "codemirror_mode": {
    "name": "ipython",
    "version": 3
   },
   "file_extension": ".py",
   "mimetype": "text/x-python",
   "name": "python",
   "nbconvert_exporter": "python",
   "pygments_lexer": "ipython3",
   "version": "3.12.4"
  }
 },
 "nbformat": 4,
 "nbformat_minor": 5
}
