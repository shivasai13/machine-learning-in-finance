{
 "cells": [
  {
   "cell_type": "code",
   "execution_count": 29,
   "id": "cb40ed5b-6efa-419d-8dc7-4699929cc0d7",
   "metadata": {},
   "outputs": [],
   "source": [
    "# example MY SID is 2338217, then\n",
    "n=7"
   ]
  },
  {
   "cell_type": "code",
   "execution_count": 47,
   "id": "0d865594-aa4d-41e3-87e5-37d11391d473",
   "metadata": {},
   "outputs": [],
   "source": [
    "def custom_function(x):\n",
    "    return x - n\n",
    "    data['hours-per-week']=data['hours-per-week'].apply(custom_function)\n",
    "    \n",
    "\n",
    "    "
   ]
  },
  {
   "cell_type": "code",
   "execution_count": 35,
   "id": "15609323-dfe8-4373-855b-503e32081eb6",
   "metadata": {},
   "outputs": [
    {
     "ename": "SyntaxError",
     "evalue": "invalid syntax (633593129.py, line 6)",
     "output_type": "error",
     "traceback": [
      "\u001b[1;36m  Cell \u001b[1;32mIn[35], line 6\u001b[1;36m\u001b[0m\n\u001b[1;33m    relationship     hours-per-week\u001b[0m\n\u001b[1;37m                     ^\u001b[0m\n\u001b[1;31mSyntaxError\u001b[0m\u001b[1;31m:\u001b[0m invalid syntax\n"
     ]
    }
   ],
   "source": [
    "# Grouping after reducing 'hours-per-week'\n",
    "\n",
    "Group_by_reduced_relationship = data.groupby ([\"relationship\", \"hours-per-week\"])\n",
    "Group_by_reduced_relationship.size()\n",
    "\n",
    "relationship     hours-per-week\n",
    "Husband           6.0             1\n",
    "                  33.0            2\n",
    "                  38.0            1\n",
    "                  73.0            1\n",
    "Not-in-family     9.0             1\n",
    "                  33.0            2\n",
    "                  43.0            2\n",
    "Own-child         23.0            1\n",
    "wife              33.0            2\n",
    "dtype: int64"
   ]
  },
  {
   "cell_type": "code",
   "execution_count": 43,
   "id": "bed4e161-ad43-4f14-b5f9-ed6a3b1e7cab",
   "metadata": {},
   "outputs": [
    {
     "ename": "IndentationError",
     "evalue": "unexpected indent (2231525222.py, line 4)",
     "output_type": "error",
     "traceback": [
      "\u001b[1;36m  Cell \u001b[1;32mIn[43], line 4\u001b[1;36m\u001b[0m\n\u001b[1;33m    relationship          hours-per-week\u001b[0m\n\u001b[1;37m    ^\u001b[0m\n\u001b[1;31mIndentationError\u001b[0m\u001b[1;31m:\u001b[0m unexpected indent\n"
     ]
    }
   ],
   "source": [
    "# Grouping before redusing 'hours-per-week\"\n",
    "Group_by_relationship = data.groupby([\"relationship\", \"hours-per-week\" ])\n",
    "Group_by_relationship.size()\n",
    " relationship          hours-per-week\n",
    "Husband                13.0           1\n",
    "                       40.0           2\n",
    "                       45.0           1\n",
    "                       80.0           1    \n",
    "Not-in-family          16.0           1\n",
    "                       40.0           2\n",
    "                       50.0           2\n",
    "Own-child              30.0           1\n",
    "Wife                   40.0           2\n",
    "dtype: int64"
   ]
  },
  {
   "cell_type": "code",
   "execution_count": null,
   "id": "4d794797-740f-4dbb-8863-d19a31e999fa",
   "metadata": {},
   "outputs": [],
   "source": []
  }
 ],
 "metadata": {
  "kernelspec": {
   "display_name": "Python 3 (ipykernel)",
   "language": "python",
   "name": "python3"
  },
  "language_info": {
   "codemirror_mode": {
    "name": "ipython",
    "version": 3
   },
   "file_extension": ".py",
   "mimetype": "text/x-python",
   "name": "python",
   "nbconvert_exporter": "python",
   "pygments_lexer": "ipython3",
   "version": "3.12.4"
  }
 },
 "nbformat": 4,
 "nbformat_minor": 5
}
