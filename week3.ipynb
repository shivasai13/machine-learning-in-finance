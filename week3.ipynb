{
 "cells": [
  {
   "cell_type": "code",
   "execution_count": 11,
   "id": "4a8d594c-2bfc-4c90-aada-459a0308542f",
   "metadata": {},
   "outputs": [],
   "source": [
    "# For example, my your SID id is 2338212\n",
    "\n",
    "#plotting a bicolor diagram between 1 and 2 columns\n",
    "\n",
    "# \"Total day minutes\" and \"Total day calls\""
   ]
  },
  {
   "cell_type": "code",
   "execution_count": 19,
   "id": "ce76bed8-64ca-49e8-8848-85264d935452",
   "metadata": {},
   "outputs": [
    {
     "ename": "NameError",
     "evalue": "name 'plt' is not defined",
     "output_type": "error",
     "traceback": [
      "\u001b[1;31m---------------------------------------------------------------------------\u001b[0m",
      "\u001b[1;31mNameError\u001b[0m                                 Traceback (most recent call last)",
      "Cell \u001b[1;32mIn[19], line 4\u001b[0m\n\u001b[0;32m      1\u001b[0m \u001b[38;5;66;03m# Drawing the bicolour diagram\u001b[39;00m\n\u001b[1;32m----> 4\u001b[0m fig \u001b[38;5;241m=\u001b[39m plt\u001b[38;5;241m.\u001b[39mfigure(figsize\u001b[38;5;241m=\u001b[39m(\u001b[38;5;241m1\u001b[39m, \u001b[38;5;241m2\u001b[39m))\n\u001b[0;32m      5\u001b[0m plt\u001b[38;5;241m.\u001b[39mscatter(data[\u001b[38;5;124m'\u001b[39m\u001b[38;5;124mTotal day minutes\u001b[39m\u001b[38;5;124m'\u001b[39m], data[ \u001b[38;5;124m'\u001b[39m\u001b[38;5;124mTotal day calls\u001b[39m\u001b[38;5;124m'\u001b[39m], color \u001b[38;5;241m=\u001b[39m clr );\n\u001b[0;32m      6\u001b[0m plt\u001b[38;5;241m.\u001b[39mxlabel (\u001b[38;5;124m'\u001b[39m\u001b[38;5;124mTotal day minutes\u001b[39m\u001b[38;5;124m'\u001b[39m);\n",
      "\u001b[1;31mNameError\u001b[0m: name 'plt' is not defined"
     ]
    }
   ],
   "source": [
    "# Drawing the bicolour diagram\n",
    "\n",
    "\n",
    "fig = plt.figure(figsize=(1, 2))\n",
    "plt.scatter(data['Total day minutes'], data[ 'Total day calls'], color = clr );\n",
    "plt.xlabel ('Total day minutes');\n",
    "plt.ylabel( 'Total day calls');"
   ]
  },
  {
   "cell_type": "code",
   "execution_count": null,
   "id": "33248197-35ba-40ac-94ab-6561608b4d8e",
   "metadata": {},
   "outputs": [],
   "source": []
  }
 ],
 "metadata": {
  "kernelspec": {
   "display_name": "Python 3 (ipykernel)",
   "language": "python",
   "name": "python3"
  },
  "language_info": {
   "codemirror_mode": {
    "name": "ipython",
    "version": 3
   },
   "file_extension": ".py",
   "mimetype": "text/x-python",
   "name": "python",
   "nbconvert_exporter": "python",
   "pygments_lexer": "ipython3",
   "version": "3.12.4"
  }
 },
 "nbformat": 4,
 "nbformat_minor": 5
}
